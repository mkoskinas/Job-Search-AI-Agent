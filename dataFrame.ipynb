{
  "cells": [
    {
      "cell_type": "code",
      "execution_count": 2,
      "id": "39ce0d3f",
      "metadata": {
        "execution": {
          "iopub.execute_input": "2024-02-21T15:58:20.008Z",
          "iopub.status.busy": "2024-02-21T15:58:20.006829Z",
          "iopub.status.idle": "2024-02-21T15:58:20.013724Z",
          "shell.execute_reply": "2024-02-21T15:58:20.01249Z"
        },
        "id": "39ce0d3f",
        "papermill": {
          "duration": 0.028165,
          "end_time": "2024-02-21T15:58:20.016814",
          "exception": false,
          "start_time": "2024-02-21T15:58:19.988649",
          "status": "completed"
        },
        "tags": []
      },
      "outputs": [],
      "source": [
        "import numpy as np\n",
        "import pandas as pd"
      ]
    },
    {
      "cell_type": "code",
      "execution_count": 3,
      "id": "e70a47e0",
      "metadata": {
        "execution": {
          "iopub.execute_input": "2024-02-21T15:58:20.084447Z",
          "iopub.status.busy": "2024-02-21T15:58:20.083438Z",
          "iopub.status.idle": "2024-02-21T15:58:21.232033Z",
          "shell.execute_reply": "2024-02-21T15:58:21.230551Z"
        },
        "id": "e70a47e0",
        "papermill": {
          "duration": 1.170763,
          "end_time": "2024-02-21T15:58:21.235862",
          "exception": false,
          "start_time": "2024-02-21T15:58:20.065099",
          "status": "completed"
        },
        "tags": []
      },
      "outputs": [
        {
          "name": "stdout",
          "output_type": "stream",
          "text": [
            "Shape of DataFrame: (75, 7)\n",
            "\n",
            "Columns in DataFrame:\n",
            "['Job_ID', 'Location', 'Title', 'Company', 'Date', 'Link', 'Description']\n",
            "\n",
            "DataFrame Info:\n",
            "<class 'pandas.core.frame.DataFrame'>\n",
            "Index: 75 entries, 0 to 74\n",
            "Data columns (total 7 columns):\n",
            " #   Column       Non-Null Count  Dtype \n",
            "---  ------       --------------  ----- \n",
            " 0   Job_ID       75 non-null     int64 \n",
            " 1   Location     75 non-null     object\n",
            " 2   Title        75 non-null     object\n",
            " 3   Company      75 non-null     object\n",
            " 4   Date         75 non-null     object\n",
            " 5   Link         75 non-null     object\n",
            " 6   Description  75 non-null     object\n",
            "dtypes: int64(1), object(6)\n",
            "memory usage: 4.7+ KB\n"
          ]
        }
      ],
      "source": [
        "# Read the CSV file\n",
        "df = pd.read_csv(\"data/jobs.csv\", index_col=0)\n",
        "\n",
        "# Display the first few rows\n",
        "print(\"Shape of DataFrame:\", df.shape)\n",
        "df.head()\n",
        "\n",
        "# Optional: Display column names\n",
        "print(\"\\nColumns in DataFrame:\")\n",
        "print(df.columns.tolist())\n",
        "\n",
        "# Optional: Basic info about the DataFrame\n",
        "print(\"\\nDataFrame Info:\")\n",
        "df.info()\n"
      ]
    },
    {
      "cell_type": "code",
      "execution_count": 4,
      "id": "474b8797",
      "metadata": {},
      "outputs": [
        {
          "name": "stdout",
          "output_type": "stream",
          "text": [
            "\n",
            "Jobs per company:\n",
            "Company\n",
            "Zalando                         8\n",
            "Doctolib                        4\n",
            "Ströer Content Group GmbH       2\n",
            "Berlin Bytes                    2\n",
            "GetYourGuide                    2\n",
            "Omio                            2\n",
            "Wolt                            2\n",
            "Avaloq                          1\n",
            "Computer Futures                1\n",
            "Delivery Hero                   1\n",
            "Visa                            1\n",
            "Müller Holding GmbH & Co. KG    1\n",
            "PwC Deutschland                 1\n",
            "Product People                  1\n",
            "EY                              1\n",
            "AVIV Group                      1\n",
            "TieTalent                       1\n",
            "stadtraum GmbH                  1\n",
            "DAYONE GmbH                     1\n",
            "1KOMMA5°                        1\n",
            "Storyblok                       1\n",
            "Patronus Group                  1\n",
            "Ceartas DMCA                    1\n",
            "DEPT®                           1\n",
            "Retresco                        1\n",
            "Aroundhome                      1\n",
            "Billie                          1\n",
            "CAIZ                            1\n",
            "Hyand Technology                1\n",
            "simpleshow                      1\n",
            "Holocene                        1\n",
            "Just Eat Takeaway.com           1\n",
            "Riverty                         1\n",
            "Parallel Consulting             1\n",
            "getquin                         1\n",
            "Lovehoney Group                 1\n",
            "O'Donnell Moonshine             1\n",
            "Parloa                          1\n",
            "Optimus Search                  1\n",
            "Vivid Money                     1\n",
            "Kauf Dich Glücklich             1\n",
            "thermondo                       1\n",
            "Coders Connect                  1\n",
            "Banxware                        1\n",
            "Enpal                           1\n",
            "Maniko Nails                    1\n",
            "Trip.com Group                  1\n",
            "AERTiCKET Gruppe                1\n",
            "Revolut                         1\n",
            "Sparrow.Parts                   1\n",
            "PayPal                          1\n",
            "RaiseNow                        1\n",
            "AMCS (formerly Quentic)         1\n",
            "LIQID                           1\n",
            "Grammarly                       1\n",
            "Amazon                          1\n",
            "Alstom                          1\n",
            "Deloitte                        1\n",
            "Consultport                     1\n",
            "Telefónica Germany              1\n",
            "Name: count, dtype: int64\n",
            "\n",
            "Jobs by location:\n",
            "Location\n",
            "Berlin    75\n",
            "Name: count, dtype: int64\n",
            "\n",
            "Product Manager titles:\n",
            "['Product Innovation Manager, Europe' 'Product Manager'\n",
            " 'Product Manager - We-Vibe' '(Junior) Product Manager (w/m/d)'\n",
            " 'Principal Product Manager, Product Platform (f/m/d)*'\n",
            " 'Product Manager, Apps Growth (m/f/d)' 'Product Manager | Berlin | €60k'\n",
            " 'Senior Product Manager (Hybrid or Remote)' 'Product Lead, Pricing'\n",
            " 'Product Manager (m/w/d)' 'Senior Product Manager'\n",
            " 'Growth Product Manager (all genders)'\n",
            " '(Senior) Digital Product Manager (f/m/d)'\n",
            " 'Lead Product Manager - Patient Relationship Management (x/f/m)'\n",
            " 'Junior Product Development Manager (m/w/d)'\n",
            " 'Product Growth Manager (f/m/d)' 'Product Growth Manager'\n",
            " 'Credit Product Manager' '(Senior) Product Manager - (f/m/x) (Remote)'\n",
            " 'Sr. Manager, Product Management'\n",
            " 'Senior Product Manager (f/d/m) Payments'\n",
            " 'Senior Product Manager (d/w/m)' 'Senior Product Manager, Extensions'\n",
            " 'Product Owner – Online Platforms (m/w/d)'\n",
            " 'Principal Product Manager - Simulation and Capacity Management (all genders) LS'\n",
            " 'Sr. Product Manager, Insurance VAS , AFP - Amazon Freight Partner'\n",
            " 'Product Introduction Controller (m/f/d)'\n",
            " '(Senior) Product Marketing Manager (m/f/d)' 'Product Owner'\n",
            " 'Senior Product Manager - Demand Forecasting (all genders)'\n",
            " 'Senior Product Manager - Patient Relationship Management (x/f/m)'\n",
            " 'Senior Product Manager - Legacy maintenance and migration (M/W/D)'\n",
            " 'Product Owner / Product Manager (m/w/d)'\n",
            " 'Principal Product Marketing Manager (Creator) (All Genders)'\n",
            " 'IT Product Owner (w/m/d)' '(Senior) Product Owner (m/f/x)'\n",
            " 'Senior Product Manager - Customer Care Technology (all genders)'\n",
            " 'Group Product Manager'\n",
            " 'Senior Principal Product Manager - Lounge, Discover Squad (all genders)'\n",
            " 'Senior Product Owner - Competitive Research'\n",
            " 'Principal Product Manager - First, Middle and Last Mile (all genders)'\n",
            " 'Product Owner (m/f/d) - Berlin' 'Senior Product Owner (div/f/m)'\n",
            " 'Principal Product Manager Payments Gift Cards (all genders)'\n",
            " 'Senior Product Manager, Paid Marketing (m/f/d)'\n",
            " 'Projektleiter / Product Owner' 'Product Owner/in (w/m/d)'\n",
            " 'Senior Product Manager - Risk (m/w/d)' 'Product Owner Blockchain'\n",
            " 'Product Owner/ Fertigungsmanager (m/w/d)'\n",
            " 'Technical Product Owner (TPO)' 'Senior Product Owner (m/w/d)']\n"
          ]
        }
      ],
      "source": [
        "# Count jobs by company\n",
        "print(\"\\nJobs per company:\")\n",
        "print(df['Company'].value_counts())\n",
        "\n",
        "# Count jobs by location\n",
        "print(\"\\nJobs by location:\")\n",
        "print(df['Location'].value_counts())\n",
        "\n",
        "# Search for specific keywords in titles\n",
        "print(\"\\nProduct Manager titles:\")\n",
        "print(df[df['Title'].str.contains('Product', case=False)]['Title'].unique())"
      ]
    },
    {
      "cell_type": "code",
      "execution_count": 14,
      "id": "89359b10",
      "metadata": {},
      "outputs": [
        {
          "name": "stdout",
          "output_type": "stream",
          "text": [
            "Zalando Job IDs and Titles:\n",
            "        Job_ID                                                                            Title\n",
            "26  4091877765  Principal Product Manager - Simulation and Capacity Management (all genders) LS\n",
            "34  4080971697                        Senior Product Manager - Demand Forecasting (all genders)\n",
            "46  4086431440                      Principal Product Marketing Manager (Creator) (All Genders)\n",
            "52  4064904689                  Senior Product Manager - Customer Care Technology (all genders)\n",
            "55  4103095706          Senior Principal Product Manager - Lounge, Discover Squad (all genders)\n",
            "58  4027601031            Principal Product Manager - First, Middle and Last Mile (all genders)\n",
            "62  4098292916                      Principal Product Manager Payments Gift Cards (all genders)\n",
            "71  4091877765  Principal Product Manager - Simulation and Capacity Management (all genders) LS\n",
            "\n",
            "Total Zalando positions found: 8\n"
          ]
        }
      ],
      "source": [
        "# Get Job_IDs for Zalando\n",
        "zalando_jobs = df[df['Company'] == 'Zalando'][['Job_ID', 'Title']]  # Including Title for context\n",
        "\n",
        "# Display the results\n",
        "print(\"Zalando Job IDs and Titles:\")\n",
        "print(zalando_jobs.to_string())\n",
        "\n",
        "# Or if you want just the count\n",
        "print(f\"\\nTotal Zalando positions found: {len(zalando_jobs)}\")\n"
      ]
    }
  ],
  "metadata": {
    "colab": {
      "machine_shape": "hm",
      "provenance": []
    },
    "kaggle": {
      "accelerator": "none",
      "dataSources": [
        {
          "datasetId": 836401,
          "sourceId": 1428159,
          "sourceType": "datasetVersion"
        },
        {
          "datasetId": 3496946,
          "sourceId": 6104553,
          "sourceType": "datasetVersion"
        },
        {
          "datasetId": 1977878,
          "sourceId": 7598394,
          "sourceType": "datasetVersion"
        }
      ],
      "dockerImageVersionId": 30527,
      "isGpuEnabled": false,
      "isInternetEnabled": true,
      "language": "python",
      "sourceType": "notebook"
    },
    "kernelspec": {
      "display_name": "Python 3",
      "name": "python3"
    },
    "language_info": {
      "codemirror_mode": {
        "name": "ipython",
        "version": 3
      },
      "file_extension": ".py",
      "mimetype": "text/x-python",
      "name": "python",
      "nbconvert_exporter": "python",
      "pygments_lexer": "ipython3",
      "version": "3.10.16"
    },
    "papermill": {
      "default_parameters": {},
      "duration": 489.921972,
      "end_time": "2024-02-21T16:01:21.828095",
      "environment_variables": {},
      "exception": null,
      "input_path": "__notebook__.ipynb",
      "output_path": "__notebook__.ipynb",
      "parameters": {},
      "start_time": "2024-02-21T15:53:11.906123",
      "version": "2.4.0"
    }
  },
  "nbformat": 4,
  "nbformat_minor": 5
}
